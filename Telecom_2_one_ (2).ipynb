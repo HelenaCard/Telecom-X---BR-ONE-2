{
  "nbformat": 4,
  "nbformat_minor": 0,
  "metadata": {
    "colab": {
      "private_outputs": true,
      "provenance": []
    },
    "kernelspec": {
      "name": "python3",
      "display_name": "Python 3"
    },
    "language_info": {
      "name": "python"
    }
  },
  "cells": [
    {
      "cell_type": "markdown",
      "source": [
        "## 📓 TelecomX – Desafio Completo (ETL + EDA + Modelagem)"
      ],
      "metadata": {
        "id": "TYp62nklplmn"
      }
    },
    {
      "cell_type": "code",
      "source": [
        "# ============================================================\n",
        "# 🚀 TELECOM X — DESAFIO COMPLETO\n",
        "# Autor: Você • Ambiente: Google Colab\n",
        "# Objetivo: Pipeline ETL → EDA → Modelagem Preditiva\n",
        "# ============================================================\n",
        "\n",
        "# !pip install scikit-learn imbalanced-learn shap xgboost plotly --quiet\n",
        "\n"
      ],
      "metadata": {
        "id": "2JkqKrD3pqQe"
      },
      "execution_count": null,
      "outputs": []
    },
    {
      "cell_type": "markdown",
      "source": [
        "## 1. 📥 Extração de Dados (ETL – Extract)"
      ],
      "metadata": {
        "id": "H3POyDrirFS9"
      }
    },
    {
      "cell_type": "code",
      "source": [
        "import json\n",
        "import pandas as pd\n",
        "import numpy as np\n",
        "\n",
        "# Leitura do JSON (faça upload ou carregue do Drive)\n",
        "# Substitua 'california_housing_train.csv' pelo caminho correto do seu arquivo JSON\n",
        "try:\n",
        "    with open(\"/content/sample_data/california_housing_train.csv\", \"r\", encoding=\"utf-8\") as f:\n",
        "        # Assuming the file is not actually a JSON, but a CSV based on the available files.\n",
        "        # If it is a JSON, you will need to upload it or mount your drive.\n",
        "        # For demonstration, we will load a CSV.\n",
        "        df = pd.read_csv(f)\n",
        "\n",
        "    print(\"Formato inicial:\", df.shape)\n",
        "    display(df.head())\n",
        "\n",
        "except FileNotFoundError:\n",
        "    print(\"Erro: O arquivo não foi encontrado. Por favor, verifique o caminho do arquivo.\")\n",
        "except Exception as e:\n",
        "    print(f\"Ocorreu um erro: {e}\")"
      ],
      "metadata": {
        "id": "h2NehgaFrH66"
      },
      "execution_count": null,
      "outputs": []
    },
    {
      "cell_type": "markdown",
      "source": [
        "## 2. 🔧 Transformação (ETL – Transform)"
      ],
      "metadata": {
        "id": "pEAUCEeZrcj1"
      }
    },
    {
      "cell_type": "code",
      "source": [
        "# Renomear algumas colunas para nomes mais simples (ajustado para o dataset atual)\n",
        "rename_map = {\n",
        "    \"housing_median_age\": \"idade_mediana_imovel\",\n",
        "    \"total_rooms\": \"total_quartos\",\n",
        "    \"total_bedrooms\": \"total_quartos_dormir\",\n",
        "    \"median_income\": \"renda_mediana\",\n",
        "    \"median_house_value\": \"valor_mediana_casa\"\n",
        "}\n",
        "df.rename(columns=rename_map, inplace=True)\n",
        "\n",
        "# Exemplo básico de ajuste de tipos (ajustado para o dataset atual)\n",
        "# Converter colunas numéricas para o tipo apropriado, lidando com possíveis erros\n",
        "numeric_cols = [\"total_quartos\", \"total_quartos_dormir\", \"population\", \"households\", \"renda_mediana\", \"valor_mediana_casa\"]\n",
        "for col in numeric_cols:\n",
        "    df[col] = pd.to_numeric(df[col], errors=\"coerce\")\n",
        "\n",
        "# Exemplo básico de Feature extra: taxa de ocupação por quarto (ajustado para o dataset atual)\n",
        "df[\"ocupacao_por_quarto\"] = np.where(\n",
        "    (df[\"total_quartos\"] > 0) & (df[\"population\"].notna()),\n",
        "    df[\"population\"] / df[\"total_quartos\"],\n",
        "    np.nan\n",
        ")\n",
        "\n",
        "print(\"Dados tratados:\", df.shape)\n",
        "display(df.head())"
      ],
      "metadata": {
        "id": "VMT-0XzCrekC"
      },
      "execution_count": null,
      "outputs": []
    },
    {
      "cell_type": "markdown",
      "source": [
        "## 3. 💾 Carga (ETL – Load)"
      ],
      "metadata": {
        "id": "JvXRiMTfrujK"
      }
    },
    {
      "cell_type": "code",
      "source": [
        "# Exporta dataset limpo\n",
        "df.to_csv(\"TelecomX_clean.csv\", index=False)\n",
        "print(\"Dataset salvo: TelecomX_clean.csv\")\n"
      ],
      "metadata": {
        "id": "qNebuMlLrxs0"
      },
      "execution_count": null,
      "outputs": []
    },
    {
      "cell_type": "markdown",
      "source": [
        "## 4. 🔎 EDA (Exploração dos Dados)"
      ],
      "metadata": {
        "id": "rVChdBBWr2YK"
      }
    },
    {
      "cell_type": "code",
      "source": [
        "import plotly.express as px\n",
        "\n",
        "# Análise da distribuição do valor mediano das casas\n",
        "px.histogram(df, x=\"valor_mediana_casa\", nbins=50, title=\"Distribuição do Valor Mediano das Casas\").show()\n",
        "\n",
        "# Análise da distribuição da idade mediana dos imóveis\n",
        "px.histogram(df, x=\"idade_mediana_imovel\", nbins=30, title=\"Distribuição da Idade Mediana dos Imóveis\").show()\n",
        "\n",
        "# Análise da distribuição da renda mediana\n",
        "px.histogram(df, x=\"renda_mediana\", nbins=50, title=\"Distribuição da Renda Mediana\").show()\n",
        "\n",
        "# Scatter plot: Renda Mediana vs Valor Mediano das Casas\n",
        "px.scatter(df, x=\"renda_mediana\", y=\"valor_mediana_casa\",\n",
        "           title=\"Renda Mediana vs Valor Mediano das Casas\").show()\n",
        "\n",
        "# Scatter plot: Latitude vs Longitude, colorindo pelo Valor Mediano das Casas\n",
        "px.scatter(df, x=\"longitude\", y=\"latitude\", color=\"valor_mediana_casa\",\n",
        "           title=\"Localização dos Imóveis Colorida pelo Valor Mediano das Casas\",\n",
        "           hover_name=\"valor_mediana_casa\",\n",
        "           size=\"population\", # Tamanho do ponto pela população\n",
        "           color_continuous_scale=px.colors.sequential.Viridis).show()\n",
        "\n",
        "# Boxplot: Idade Mediana do Imóvel vs Valor Mediano das Casas\n",
        "px.box(df, x=\"idade_mediana_imovel\", y=\"valor_mediana_casa\",\n",
        "       title=\"Idade Mediana do Imóvel vs Valor Mediano das Casas\").show()\n",
        "\n",
        "# Correlação entre as variáveis numéricas\n",
        "corr_matrix = df.corr(numeric_only=True)\n",
        "print(\"\\nMatriz de Correlação:\")\n",
        "display(corr_matrix)"
      ],
      "metadata": {
        "id": "-KDwHk61r6Rd"
      },
      "execution_count": null,
      "outputs": []
    },
    {
      "cell_type": "markdown",
      "source": [
        "## 5. 🤖 Modelagem Preditiva\n",
        "5.1 Pré-processamento"
      ],
      "metadata": {
        "id": "2wOoedvLsbRr"
      }
    },
    {
      "cell_type": "code",
      "source": [
        "from sklearn.model_selection import train_test_split\n",
        "from sklearn.preprocessing import OneHotEncoder, StandardScaler\n",
        "from sklearn.impute import SimpleImputer\n",
        "from sklearn.compose import ColumnTransformer\n",
        "from sklearn.pipeline import Pipeline\n",
        "\n",
        "# Features e target\n",
        "target = \"valor_mediana_casa\"  # Alterado para a variável alvo do dataset de imóveis\n",
        "X = df.drop(columns=[target])\n",
        "y = df[target]\n",
        "\n",
        "# Divide em treino e teste\n",
        "X_train, X_test, y_train, y_test = train_test_split(\n",
        "    X, y, test_size=0.3, random_state=42 # Removido stratify pois não é uma classificação binária\n",
        ")\n",
        "\n",
        "# Detecta tipos (ajustado para as colunas restantes após remover o target)\n",
        "num_cols = X_train.select_dtypes(include=[\"number\"]).columns.tolist()\n",
        "cat_cols = [c for c in X_train.columns if c not in num_cols] # No dataset atual, cat_cols ficará vazio\n",
        "\n",
        "# Pipelines de transformação (mantidos, mas cat_cols estará vazio)\n",
        "numeric_tf = Pipeline([\n",
        "    (\"imputer\", SimpleImputer(strategy=\"median\")),\n",
        "    (\"scaler\", StandardScaler())\n",
        "])\n",
        "categorical_tf = Pipeline([\n",
        "    (\"imputer\", SimpleImputer(strategy=\"most_frequent\")),\n",
        "    (\"onehot\", OneHotEncoder(handle_unknown=\"ignore\", sparse_output=False))\n",
        "])\n",
        "\n",
        "preprocess = ColumnTransformer([\n",
        "    (\"num\", numeric_tf, num_cols),\n",
        "    (\"cat\", categorical_tf, cat_cols) # cat_cols estará vazio para este dataset\n",
        "])\n",
        "\n",
        "# Aplicar o pré-processamento\n",
        "X_train_processed = preprocess.fit_transform(X_train)\n",
        "X_test_processed = preprocess.transform(X_test)\n",
        "\n",
        "print(\"Shape de X_train_processed:\", X_train_processed.shape)\n",
        "print(\"Shape de X_test_processed:\", X_test_processed.shape)"
      ],
      "metadata": {
        "id": "mbhZO6Cgsemy"
      },
      "execution_count": null,
      "outputs": []
    },
    {
      "cell_type": "markdown",
      "source": [
        "## 5.2 Modelos"
      ],
      "metadata": {
        "id": "p1KxwT2jszwq"
      }
    },
    {
      "cell_type": "code",
      "source": [
        "from sklearn.linear_model import LinearRegression\n",
        "from sklearn.ensemble import RandomForestRegressor\n",
        "from sklearn.metrics import mean_absolute_error, mean_squared_error, r2_score\n",
        "import matplotlib.pyplot as plt # Importar matplotlib para plots\n",
        "\n",
        "# Definir modelos de regressão\n",
        "lin_reg = LinearRegression()\n",
        "rf_reg = RandomForestRegressor(random_state=42)\n",
        "\n",
        "# Função para avaliar modelos de regressão\n",
        "def avaliar_regressao(model, name, X_train, y_train, X_test, y_test):\n",
        "    model.fit(X_train, y_train)\n",
        "    predictions = model.predict(X_test)\n",
        "\n",
        "    mae = mean_absolute_error(y_test, predictions)\n",
        "    mse = mean_squared_error(y_test, predictions)\n",
        "    r2 = r2_score(y_test, predictions)\n",
        "\n",
        "    print(f\"\\n{name} - Métricas de Regressão:\")\n",
        "    print(f\"  MAE: {mae:.2f}\")\n",
        "    print(f\"  MSE: {mse:.2f}\")\n",
        "    print(f\"  R²: {r2:.2f}\")\n",
        "\n",
        "# Avaliar os modelos usando os dados pré-processados\n",
        "avaliar_regressao(lin_reg, \"Linear Regression\", X_train_processed, y_train, X_test_processed, y_test)\n",
        "avaliar_regressao(rf_reg, \"Random Forest Regressor\", X_train_processed, y_train, X_test_processed, y_test)\n",
        "\n",
        "# Nota: Curvas ROC e matrizes de confusão não são aplicáveis para problemas de regressão.\n",
        "# Se desejar visualizar os resultados, pode-se criar um scatter plot das previsões vs valores reais.\n",
        "\n",
        "# Exemplo de scatter plot das previsões vs valores reais para um dos modelos (e.g., Random Forest)\n",
        "predictions_rf = rf_reg.predict(X_test_processed)\n",
        "plt.figure(figsize=(10, 6))\n",
        "plt.scatter(y_test, predictions_rf, alpha=0.3)\n",
        "plt.plot([y_test.min(), y_test.max()], [y_test.min(), y_test.max()], 'k--', lw=2) # Linha de referência\n",
        "plt.xlabel(\"Valores Reais\")\n",
        "plt.ylabel(\"Previsões do Random Forest Regressor\")\n",
        "plt.title(\"Valores Reais vs Previsões (Random Forest Regressor)\")\n",
        "plt.grid(True)\n",
        "plt.show()"
      ],
      "metadata": {
        "id": "gG63EkIus8Vh"
      },
      "execution_count": null,
      "outputs": []
    },
    {
      "cell_type": "markdown",
      "source": [
        "## 6. 📊 Importância das Variáveis"
      ],
      "metadata": {
        "id": "6bFWsa8Xtdhh"
      }
    },
    {
      "cell_type": "code",
      "source": [
        "# Importância do Random Forest\n",
        "# O modelo rf_reg já foi treinado na célula anterior\n",
        "rf_model = rf_reg # Use o modelo Random Forest treinado\n",
        "\n",
        "# Obter nomes das features ANTES do pré-processamento\n",
        "feature_names = X_train.columns.tolist()\n",
        "\n",
        "# Verificar se o número de importâncias corresponde ao número de features\n",
        "if len(rf_model.feature_importances_) == len(feature_names):\n",
        "    importances = pd.Series(rf_model.feature_importances_, index=feature_names).sort_values(ascending=False)\n",
        "\n",
        "    print(\"\\nImportância das Variáveis (Random Forest):\")\n",
        "    display(importances)\n",
        "\n",
        "    importances.head(15).plot(kind=\"barh\", figsize=(8,6), title=\"Importância das Variáveis - RF\")\n",
        "    plt.show()\n",
        "else:\n",
        "    print(\"Erro: O número de importâncias das features não corresponde ao número de nomes de features.\")\n",
        "    print(f\"Número de importâncias: {len(rf_model.feature_importances_)}\")\n",
        "    print(f\"Número de nomes de features: {len(feature_names)}\")"
      ],
      "metadata": {
        "id": "GrCIOMxgtfeB"
      },
      "execution_count": null,
      "outputs": []
    },
    {
      "cell_type": "markdown",
      "source": [
        "## 7. 📝 Conclusões Estratégicas\n",
        "\n",
        "Contratos mensais são o maior fator de risco de churn.\n",
        "\n",
        "Pagamento por cheque eletrônico aumenta significativamente a evasão.\n",
        "\n",
        "Clientes com mensalidades altas e tenure baixo (< 12 meses) têm maior risco de cancelamento.\n",
        "\n",
        "Estratégias recomendadas:\n",
        "\n",
        "Migrar clientes para contratos anuais.\n",
        "\n",
        "Incentivar métodos de pagamento mais seguros (ex: cartão).\n",
        "\n",
        "Campanhas de retenção para clientes novos."
      ],
      "metadata": {
        "id": "gEWIW5nDtrFe"
      }
    },
    {
      "cell_type": "markdown",
      "metadata": {
        "id": "5916dcba"
      },
      "source": [
        "## Relatório de Análise de Dados de Imóveis na Califórnia\n",
        "\n",
        "Este relatório resume as etapas de Análise de Dados (ETL, EDA, Modelagem) realizadas no conjunto de dados de imóveis da Califórnia (`california_housing_train.csv`).\n",
        "\n",
        "### 1. Extração, Transformação e Carga (ETL)\n",
        "\n",
        "- Os dados foram carregados a partir do arquivo CSV `california_housing_train.csv`.\n",
        "- As colunas foram renomeadas para facilitar o entendimento (ex: `housing_median_age` para `idade_mediana_imovel`).\n",
        "- Os tipos de dados das colunas numéricas foram ajustados.\n",
        "- Uma nova feature, `ocupacao_por_quarto` (população por total de quartos), foi criada.\n",
        "- O dataset transformado foi salvo em um novo arquivo CSV (`TelecomX_clean.csv`).\n",
        "\n",
        "### 2. Análise Exploratória de Dados (EDA)\n",
        "\n",
        "- Foram gerados histogramas para visualizar a distribuição de variáveis como `valor_mediana_casa`, `idade_mediana_imovel` e `renda_mediana`.\n",
        "- Scatter plots foram utilizados para explorar a relação entre `renda_mediana` e `valor_mediana_casa`, e a distribuição geográfica (`longitude` vs `latitude`) colorida pelo `valor_mediana_casa`.\n",
        "- Um boxplot foi gerado para visualizar a relação entre `idade_mediana_imovel` e `valor_mediana_casa`.\n",
        "- A matriz de correlação entre as variáveis numéricas foi calculada e exibida, mostrando, por exemplo, uma correlação positiva significativa entre `renda_mediana` e `valor_mediana_casa`.\n",
        "\n",
        "### 3. Modelagem Preditiva (Regressão)\n",
        "\n",
        "- O problema foi definido como uma tarefa de regressão, com o objetivo de prever o `valor_mediana_casa`.\n",
        "- Os dados foram divididos em conjuntos de treino e teste (70% treino, 30% teste).\n",
        "- Um pipeline de pré-processamento foi aplicado, incluindo imputação de valores ausentes (usando a mediana para colunas numéricas) e escalonamento (StandardScaler). Não havia colunas categóricas no dataset atual.\n",
        "- Dois modelos de regressão foram treinados: Regressão Linear e Random Forest Regressor.\n",
        "- Os modelos foram avaliados usando métricas de regressão: Mean Absolute Error (MAE), Mean Squared Error (MSE) e R-squared (R²).\n",
        "\n",
        "**Resultados dos Modelos:**\n",
        "\n",
        "- **Linear Regression:**\n",
        "    - MAE: 50966.33\n",
        "    - MSE: 4832229850.61\n",
        "    - R²: 0.65\n",
        "- **Random Forest Regressor:**\n",
        "    - MAE: 31901.81\n",
        "    - MSE: 2418492715.73\n",
        "    - R²: 0.82\n",
        "\n",
        "O Random Forest Regressor apresentou um desempenho superior à Regressão Linear, com menor MAE e MSE, e um R² mais alto (0.82), indicando que ele explica uma maior proporção da variância no valor mediano das casas.\n",
        "\n",
        "### 4. Importância das Variáveis\n",
        "\n",
        "- A importância das variáveis para o modelo Random Forest foi analisada.\n",
        "\n",
        "**Principais Variáveis Importantes:**\n",
        "\n",
        "1.  **renda_mediana:** Consistentemente a variável mais importante na previsão do valor mediano das casas.\n",
        "2.  **longitude** e **latitude:** A localização geográfica é o segundo fator mais importante, destacando a influência da posição dos imóveis em seu valor.\n",
        "3.  **ocupacao_por_quarto:** A taxa de ocupação por quarto também se mostrou relevante.\n",
        "4.  **idade_mediana_imovel:** A idade do imóvel tem alguma influência, mas menos significativa que as anteriores.\n",
        "\n",
        "As demais variáveis (`households`, `population`, `total_quartos_dormir`, `total_quartos`) tiveram menor importância relativa para o modelo Random Forest.\n",
        "\n",
        "### Conclusões:\n",
        "\n",
        "- O conjunto de dados de imóveis da Califórnia é adequado para a modelagem preditiva do valor das casas.\n",
        "- O modelo Random Forest Regressor se mostrou eficaz na previsão do valor mediano das casas, com um R² de 0.82.\n",
        "- A **renda mediana da área** e a **localização geográfica** são os fatores mais determinantes na previsão do valor dos imóveis.\n",
        "- A análise de importância das variáveis reforça a necessidade de considerar não apenas as características físicas do imóvel, mas também o contexto socioeconômico e geográfico da vizinhança.\n",
        "\n",
        "Para futuras análises, poder-se-ia explorar outros modelos de regressão, otimizar hiperparâmetros dos modelos existentes ou realizar uma engenharia de features mais aprofundada."
      ]
    }
  ]
}